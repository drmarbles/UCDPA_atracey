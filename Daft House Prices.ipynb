{
 "cells": [
  {
   "cell_type": "code",
   "execution_count": null,
   "id": "74965476",
   "metadata": {},
   "outputs": [],
   "source": [
    "Use the https://github.com/deldersveld/topojson/blob/master/countries/ireland/ireland-counties.json to work out county\n",
    "    from latitude and longitude"
   ]
  },
  {
   "cell_type": "code",
   "execution_count": null,
   "id": "fc4f41ab",
   "metadata": {},
   "outputs": [],
   "source": [
    "import pandas as pd\n",
    "import numpy as np"
   ]
  },
  {
   "cell_type": "code",
   "execution_count": null,
   "id": "85483eef",
   "metadata": {},
   "outputs": [],
   "source": [
    "# Read in Data from csv\n",
    "\n",
    "df_daft_data = pd.read.csv('daft_ie_v1.csv')"
   ]
  },
  {
   "cell_type": "code",
   "execution_count": null,
   "id": "771f0cd8",
   "metadata": {},
   "outputs": [],
   "source": [
    "df_daft_data.head()"
   ]
  },
  {
   "cell_type": "code",
   "execution_count": null,
   "id": "fbd8bfb7",
   "metadata": {},
   "outputs": [],
   "source": []
  }
 ],
 "metadata": {
  "kernelspec": {
   "display_name": "Python 3 (ipykernel)",
   "language": "python",
   "name": "python3"
  },
  "language_info": {
   "codemirror_mode": {
    "name": "ipython",
    "version": 3
   },
   "file_extension": ".py",
   "mimetype": "text/x-python",
   "name": "python",
   "nbconvert_exporter": "python",
   "pygments_lexer": "ipython3",
   "version": "3.9.13"
  }
 },
 "nbformat": 4,
 "nbformat_minor": 5
}
