{
 "cells": [
  {
   "cell_type": "code",
   "execution_count": 16,
   "id": "22d7c6d6",
   "metadata": {},
   "outputs": [
    {
     "name": "stdout",
     "output_type": "stream",
     "text": [
      "Warning: Your Kaggle API key is readable by other users on this system! To fix this, you can run 'chmod 600 /Users/atracey/.kaggle/kaggle.json'\n"
     ]
    }
   ],
   "source": [
    "#Import relevant libraries\n",
    "\n",
    "import pandas as pd\n",
    "import numpy as np\n",
    "import os\n",
    "from kaggle.api.kaggle_api_extended import KaggleApi\n",
    "import re\n",
    "import matplotlib.pyplot as plt\n",
    "from sklearn.model_selection import train_test_split\n",
    "from sklearn.preprocessing import LabelEncoder\n",
    "from sklearn.ensemble import RandomForestRegressor\n",
    "from sklearn.metrics import mean_squared_error"
   ]
  },
  {
   "cell_type": "code",
   "execution_count": 6,
   "id": "89273048",
   "metadata": {},
   "outputs": [
    {
     "name": "stdout",
     "output_type": "stream",
     "text": [
      "Warning: Your Kaggle API key is readable by other users on this system! To fix this, you can run 'chmod 600 /Users/atracey/.kaggle/kaggle.json'\n"
     ]
    }
   ],
   "source": [
    "# Use API to download dataset from Kaggle\n",
    "\n",
    "api = KaggleApi()\n",
    "api.authenticate()\n",
    "dataset_id = 'eavannan/daftie-house-price-data'\n",
    "save_path = '.'\n",
    "api.dataset_download_files(dataset_id, path=save_path, unzip=True)\n"
   ]
  },
  {
   "cell_type": "code",
   "execution_count": 17,
   "id": "3dc545bb",
   "metadata": {},
   "outputs": [],
   "source": [
    "df_daft_data = pd.read_csv('daft_ie_v1.csv')"
   ]
  },
  {
   "cell_type": "code",
   "execution_count": 3,
   "id": "25d238d4",
   "metadata": {},
   "outputs": [
    {
     "data": {
      "text/html": [
       "<div>\n",
       "<style scoped>\n",
       "    .dataframe tbody tr th:only-of-type {\n",
       "        vertical-align: middle;\n",
       "    }\n",
       "\n",
       "    .dataframe tbody tr th {\n",
       "        vertical-align: top;\n",
       "    }\n",
       "\n",
       "    .dataframe thead th {\n",
       "        text-align: right;\n",
       "    }\n",
       "</style>\n",
       "<table border=\"1\" class=\"dataframe\">\n",
       "  <thead>\n",
       "    <tr style=\"text-align: right;\">\n",
       "      <th></th>\n",
       "      <th>id</th>\n",
       "      <th>title</th>\n",
       "      <th>featuredLevel</th>\n",
       "      <th>publishDate</th>\n",
       "      <th>price</th>\n",
       "      <th>numBedrooms</th>\n",
       "      <th>numBathrooms</th>\n",
       "      <th>propertyType</th>\n",
       "      <th>propertySize</th>\n",
       "      <th>category</th>\n",
       "      <th>...</th>\n",
       "      <th>seller_name</th>\n",
       "      <th>seller_branch</th>\n",
       "      <th>sellerType</th>\n",
       "      <th>m_totalImages</th>\n",
       "      <th>m_hasVideo</th>\n",
       "      <th>m_hasVirtualTour</th>\n",
       "      <th>m_hasBrochure</th>\n",
       "      <th>ber_rating</th>\n",
       "      <th>longitude</th>\n",
       "      <th>latitude</th>\n",
       "    </tr>\n",
       "  </thead>\n",
       "  <tbody>\n",
       "    <tr>\n",
       "      <th>0</th>\n",
       "      <td>3626025</td>\n",
       "      <td>11 Chestnut Crescent, Bridgemount, Carrigaline...</td>\n",
       "      <td>featured</td>\n",
       "      <td>2022-01-28</td>\n",
       "      <td>290000</td>\n",
       "      <td>3</td>\n",
       "      <td>3</td>\n",
       "      <td>End of Terrace</td>\n",
       "      <td>96.0</td>\n",
       "      <td>Buy</td>\n",
       "      <td>...</td>\n",
       "      <td>Roy Dennehy</td>\n",
       "      <td>Dennehy Auctioneers</td>\n",
       "      <td>BRANDED_AGENT</td>\n",
       "      <td>16.0</td>\n",
       "      <td>False</td>\n",
       "      <td>False</td>\n",
       "      <td>False</td>\n",
       "      <td>C2</td>\n",
       "      <td>-8.382500</td>\n",
       "      <td>51.822940</td>\n",
       "    </tr>\n",
       "    <tr>\n",
       "      <th>1</th>\n",
       "      <td>3675175</td>\n",
       "      <td>58 The Glen, Kilnacourt Woods, Portarlington, ...</td>\n",
       "      <td>featured</td>\n",
       "      <td>2022-01-28</td>\n",
       "      <td>225000</td>\n",
       "      <td>3</td>\n",
       "      <td>2</td>\n",
       "      <td>Semi-D</td>\n",
       "      <td>93.0</td>\n",
       "      <td>Buy</td>\n",
       "      <td>...</td>\n",
       "      <td>Marie Kiernan</td>\n",
       "      <td>Tom McDonald &amp; Associates</td>\n",
       "      <td>BRANDED_AGENT</td>\n",
       "      <td>33.0</td>\n",
       "      <td>False</td>\n",
       "      <td>False</td>\n",
       "      <td>False</td>\n",
       "      <td>C1</td>\n",
       "      <td>-7.177098</td>\n",
       "      <td>53.157465</td>\n",
       "    </tr>\n",
       "    <tr>\n",
       "      <th>2</th>\n",
       "      <td>3673450</td>\n",
       "      <td>16 Dodderbrook Park, Ballycullen, Dublin 24</td>\n",
       "      <td>featured</td>\n",
       "      <td>2022-01-27</td>\n",
       "      <td>575000</td>\n",
       "      <td>4</td>\n",
       "      <td>3</td>\n",
       "      <td>Semi-D</td>\n",
       "      <td>162.0</td>\n",
       "      <td>Buy</td>\n",
       "      <td>...</td>\n",
       "      <td>Moovingo</td>\n",
       "      <td>Moovingo</td>\n",
       "      <td>BRANDED_AGENT</td>\n",
       "      <td>38.0</td>\n",
       "      <td>False</td>\n",
       "      <td>True</td>\n",
       "      <td>False</td>\n",
       "      <td>A3</td>\n",
       "      <td>-6.342763</td>\n",
       "      <td>53.269493</td>\n",
       "    </tr>\n",
       "    <tr>\n",
       "      <th>3</th>\n",
       "      <td>3649708</td>\n",
       "      <td>31 Lissanalta Drive, Dooradoyle, Co. Limerick</td>\n",
       "      <td>featured</td>\n",
       "      <td>2022-01-28</td>\n",
       "      <td>299000</td>\n",
       "      <td>3</td>\n",
       "      <td>3</td>\n",
       "      <td>Semi-D</td>\n",
       "      <td>NaN</td>\n",
       "      <td>Buy</td>\n",
       "      <td>...</td>\n",
       "      <td>DNG Cusack Dunne</td>\n",
       "      <td>DNG Cusack Dunne</td>\n",
       "      <td>BRANDED_AGENT</td>\n",
       "      <td>22.0</td>\n",
       "      <td>False</td>\n",
       "      <td>False</td>\n",
       "      <td>False</td>\n",
       "      <td>C2</td>\n",
       "      <td>-8.640716</td>\n",
       "      <td>52.629588</td>\n",
       "    </tr>\n",
       "    <tr>\n",
       "      <th>4</th>\n",
       "      <td>3643947</td>\n",
       "      <td>5 Columba Terrace, Kells, Co. Meath</td>\n",
       "      <td>featured</td>\n",
       "      <td>2022-01-28</td>\n",
       "      <td>120000</td>\n",
       "      <td>3</td>\n",
       "      <td>1</td>\n",
       "      <td>Terrace</td>\n",
       "      <td>68.0</td>\n",
       "      <td>Buy</td>\n",
       "      <td>...</td>\n",
       "      <td>REA T&amp;J Gavigan</td>\n",
       "      <td>REA T &amp; J Gavigan</td>\n",
       "      <td>BRANDED_AGENT</td>\n",
       "      <td>5.0</td>\n",
       "      <td>False</td>\n",
       "      <td>False</td>\n",
       "      <td>False</td>\n",
       "      <td>G</td>\n",
       "      <td>-6.879797</td>\n",
       "      <td>53.728601</td>\n",
       "    </tr>\n",
       "  </tbody>\n",
       "</table>\n",
       "<p>5 rows × 22 columns</p>\n",
       "</div>"
      ],
      "text/plain": [
       "        id                                              title featuredLevel  \\\n",
       "0  3626025  11 Chestnut Crescent, Bridgemount, Carrigaline...      featured   \n",
       "1  3675175  58 The Glen, Kilnacourt Woods, Portarlington, ...      featured   \n",
       "2  3673450        16 Dodderbrook Park, Ballycullen, Dublin 24      featured   \n",
       "3  3649708      31 Lissanalta Drive, Dooradoyle, Co. Limerick      featured   \n",
       "4  3643947                5 Columba Terrace, Kells, Co. Meath      featured   \n",
       "\n",
       "  publishDate   price  numBedrooms  numBathrooms    propertyType  \\\n",
       "0  2022-01-28  290000            3             3  End of Terrace   \n",
       "1  2022-01-28  225000            3             2          Semi-D   \n",
       "2  2022-01-27  575000            4             3          Semi-D   \n",
       "3  2022-01-28  299000            3             3          Semi-D   \n",
       "4  2022-01-28  120000            3             1         Terrace   \n",
       "\n",
       "   propertySize category  ...       seller_name              seller_branch  \\\n",
       "0          96.0      Buy  ...       Roy Dennehy        Dennehy Auctioneers   \n",
       "1          93.0      Buy  ...     Marie Kiernan  Tom McDonald & Associates   \n",
       "2         162.0      Buy  ...          Moovingo                   Moovingo   \n",
       "3           NaN      Buy  ...  DNG Cusack Dunne           DNG Cusack Dunne   \n",
       "4          68.0      Buy  ...   REA T&J Gavigan          REA T & J Gavigan   \n",
       "\n",
       "      sellerType m_totalImages m_hasVideo  m_hasVirtualTour  m_hasBrochure  \\\n",
       "0  BRANDED_AGENT          16.0      False             False          False   \n",
       "1  BRANDED_AGENT          33.0      False             False          False   \n",
       "2  BRANDED_AGENT          38.0      False              True          False   \n",
       "3  BRANDED_AGENT          22.0      False             False          False   \n",
       "4  BRANDED_AGENT           5.0      False             False          False   \n",
       "\n",
       "   ber_rating  longitude   latitude  \n",
       "0          C2  -8.382500  51.822940  \n",
       "1          C1  -7.177098  53.157465  \n",
       "2          A3  -6.342763  53.269493  \n",
       "3          C2  -8.640716  52.629588  \n",
       "4           G  -6.879797  53.728601  \n",
       "\n",
       "[5 rows x 22 columns]"
      ]
     },
     "execution_count": 3,
     "metadata": {},
     "output_type": "execute_result"
    }
   ],
   "source": [
    "df_daft_data.head()"
   ]
  },
  {
   "cell_type": "code",
   "execution_count": 18,
   "id": "004583be",
   "metadata": {},
   "outputs": [],
   "source": [
    "# Create a new dataframe, extract the id and county, then merge them back into the main dataframe\n",
    "\n",
    "df_county_extract = pd.DataFrame({'id': df_daft_data['id'], 'county': None})\n",
    "\n",
    "# Iterate over each row in df_daft_data\n",
    "for index, row in df_daft_data.iterrows():\n",
    "    title = row['title']\n",
    "    \n",
    "    # Extract characters after the final comma\n",
    "    pattern = r\",([^,]*)$\"\n",
    "    result = re.search(pattern, title)\n",
    "    \n",
    "    if result:\n",
    "        county = result.group(1)\n",
    "        df_county_extract.at[index, 'county'] = county\n",
    "\n",
    "# Strip out the leading whitespace\n",
    "df_county_extract['county'] = df_county_extract['county'].str.strip()"
   ]
  },
  {
   "cell_type": "code",
   "execution_count": 19,
   "id": "ec588b09",
   "metadata": {},
   "outputs": [
    {
     "data": {
      "text/html": [
       "<div>\n",
       "<style scoped>\n",
       "    .dataframe tbody tr th:only-of-type {\n",
       "        vertical-align: middle;\n",
       "    }\n",
       "\n",
       "    .dataframe tbody tr th {\n",
       "        vertical-align: top;\n",
       "    }\n",
       "\n",
       "    .dataframe thead th {\n",
       "        text-align: right;\n",
       "    }\n",
       "</style>\n",
       "<table border=\"1\" class=\"dataframe\">\n",
       "  <thead>\n",
       "    <tr style=\"text-align: right;\">\n",
       "      <th></th>\n",
       "      <th>id</th>\n",
       "      <th>county</th>\n",
       "    </tr>\n",
       "  </thead>\n",
       "  <tbody>\n",
       "    <tr>\n",
       "      <th>0</th>\n",
       "      <td>3626025</td>\n",
       "      <td>Co. Cork</td>\n",
       "    </tr>\n",
       "    <tr>\n",
       "      <th>1</th>\n",
       "      <td>3675175</td>\n",
       "      <td>Co. Laois</td>\n",
       "    </tr>\n",
       "    <tr>\n",
       "      <th>2</th>\n",
       "      <td>3673450</td>\n",
       "      <td>Dublin 24</td>\n",
       "    </tr>\n",
       "    <tr>\n",
       "      <th>3</th>\n",
       "      <td>3649708</td>\n",
       "      <td>Co. Limerick</td>\n",
       "    </tr>\n",
       "    <tr>\n",
       "      <th>4</th>\n",
       "      <td>3643947</td>\n",
       "      <td>Co. Meath</td>\n",
       "    </tr>\n",
       "  </tbody>\n",
       "</table>\n",
       "</div>"
      ],
      "text/plain": [
       "        id        county\n",
       "0  3626025      Co. Cork\n",
       "1  3675175     Co. Laois\n",
       "2  3673450     Dublin 24\n",
       "3  3649708  Co. Limerick\n",
       "4  3643947     Co. Meath"
      ]
     },
     "execution_count": 19,
     "metadata": {},
     "output_type": "execute_result"
    }
   ],
   "source": [
    "\n",
    "df_county_extract.head()"
   ]
  },
  {
   "cell_type": "code",
   "execution_count": 22,
   "id": "914d62b7",
   "metadata": {},
   "outputs": [
    {
     "data": {
      "text/plain": [
       "['Co. Carlow',\n",
       " 'Co. Cavan',\n",
       " 'Co. Clare',\n",
       " 'Co. Cork',\n",
       " 'Co. Donegal',\n",
       " 'Co. Dublin',\n",
       " 'Co. Galway',\n",
       " 'Co. Kerry',\n",
       " 'Co. Kildare',\n",
       " 'Co. Kilkenny',\n",
       " 'Co. Laois',\n",
       " 'Co. Leitrim',\n",
       " 'Co. Limerick',\n",
       " 'Co. Longford',\n",
       " 'Co. Louth',\n",
       " 'Co. Mayo',\n",
       " 'Co. Meath',\n",
       " 'Co. Monaghan',\n",
       " 'Co. Offaly',\n",
       " 'Co. Roscommon',\n",
       " 'Co. Sligo',\n",
       " 'Co. Tipperary',\n",
       " 'Co. Waterford',\n",
       " 'Co. Westmeath',\n",
       " 'Co. Wexford',\n",
       " 'Co. Wicklow',\n",
       " 'Dublin 1',\n",
       " 'Dublin 10',\n",
       " 'Dublin 11',\n",
       " 'Dublin 12',\n",
       " 'Dublin 13',\n",
       " 'Dublin 14',\n",
       " 'Dublin 15',\n",
       " 'Dublin 16',\n",
       " 'Dublin 17',\n",
       " 'Dublin 18',\n",
       " 'Dublin 2',\n",
       " 'Dublin 20',\n",
       " 'Dublin 22',\n",
       " 'Dublin 24',\n",
       " 'Dublin 3',\n",
       " 'Dublin 4',\n",
       " 'Dublin 5',\n",
       " 'Dublin 6',\n",
       " 'Dublin 6W',\n",
       " 'Dublin 7',\n",
       " 'Dublin 8',\n",
       " 'Dublin 9']"
      ]
     },
     "execution_count": 22,
     "metadata": {},
     "output_type": "execute_result"
    }
   ],
   "source": [
    "# Print out the list of values for County as a visual check\n",
    "\n",
    "sorted(df_county_extract['county'].unique())\n",
    "\n",
    "# As Dublin is large I'll keep the division by postcode and treat each as a county"
   ]
  },
  {
   "cell_type": "code",
   "execution_count": 21,
   "id": "04880513",
   "metadata": {},
   "outputs": [],
   "source": [
    "# Do a manual search and replace for the entries where the county info is missing\n",
    "# I could have just dropped the rows where 'county' was not in the list of actual counties\n",
    "# but as there were not many I kept them in by manually changing the values\n",
    "\n",
    "df_county_extract['county'] = df_county_extract['county'].str.replace('Ballinahowen', 'Co. Westmeath')\n",
    "df_county_extract['county'] = df_county_extract['county'].str.replace('Ballinasloe', 'Co. Galway')\n",
    "df_county_extract['county'] = df_county_extract['county'].str.replace('Castledaly', 'Co. Westmeath')\n",
    "df_county_extract['county'] = df_county_extract['county'].str.replace('Charleville', 'Co. Cork')\n",
    "df_county_extract['county'] = df_county_extract['county'].str.replace('Connemara', 'Co. Galway')\n",
    "df_county_extract['county'] = df_county_extract['county'].str.replace('Ferrybank', 'Co. Waterford')\n",
    "df_county_extract['county'] = df_county_extract['county'].str.replace('Lee Road', 'Co. Cork')\n",
    "df_county_extract['county'] = df_county_extract['county'].str.replace('Lehenaghbeg', 'Co. Cork')\n",
    "df_county_extract['county'] = df_county_extract['county'].str.replace('Longford', 'Co. Longford')\n",
    "df_county_extract['county'] = df_county_extract['county'].str.replace('Northern Cross', 'Dublin 17')\n",
    "df_county_extract['county'] = df_county_extract['county'].str.replace('Our Ladys Island', 'Co. Wexford')\n",
    "df_county_extract['county'] = df_county_extract['county'].str.replace('Shannonbanks', 'Co. Limerick')\n",
    "df_county_extract['county'] = df_county_extract['county'].str.replace('The Ward', 'Co. Dublin')\n",
    "df_county_extract['county'] = df_county_extract['county'].str.replace('Waterford', 'Co. Waterford')\n",
    "df_county_extract['county'] = df_county_extract['county'].str.replace('Youghal', 'Co. Cork')\n",
    "\n",
    "# This fixes the places where the above code duplicates the Co. It is kinda kludgy but it works\n",
    "\n",
    "df_county_extract['county'] = df_county_extract['county'].str.replace('Co. Co. Longford', 'Co. Longford', regex=True)\n",
    "df_county_extract['county'] = df_county_extract['county'].str.replace('Co. Co. Waterford', 'Co. Waterford', regex=True)"
   ]
  },
  {
   "cell_type": "code",
   "execution_count": 24,
   "id": "1d7734df",
   "metadata": {},
   "outputs": [],
   "source": [
    "# Merge the new county values into the main dataframe\n",
    "\n",
    "df_daft_data = pd.merge(df_daft_data, df_county_extract, on='id')\n"
   ]
  },
  {
   "cell_type": "code",
   "execution_count": 26,
   "id": "379f9f46",
   "metadata": {},
   "outputs": [
    {
     "data": {
      "text/plain": [
       "(3967, 23)"
      ]
     },
     "execution_count": 26,
     "metadata": {},
     "output_type": "execute_result"
    }
   ],
   "source": [
    "df_daft_data.shape"
   ]
  },
  {
   "cell_type": "code",
   "execution_count": 28,
   "id": "2bf5e6d7",
   "metadata": {},
   "outputs": [],
   "source": [
    "# I'm going to create some bar graphs to get a handle on the different fields, so create a function as I'll\n",
    "# be doing the same thing over again\n",
    "\n",
    "# I will pass the field name to thig function and it will return a bar graph\n",
    "\n",
    "def graph_function(column_name):\n",
    "    # Get the property counts of the column\n",
    "    property_counts = df_daft_data[column_name].value_counts()\n",
    "\n",
    "    # Create the bar plot\n",
    "    plt.bar(property_counts.index, property_counts.values)\n",
    "\n",
    "    # Set labels and title\n",
    "    plt.xlabel(column_name)\n",
    "    plt.ylabel('Property Count')\n",
    "    plt.title('Prevalence of ' + column_name)\n",
    "\n",
    "    # Rotate x-axis labels and reduce label size\n",
    "    plt.xticks(rotation=90)\n",
    "    plt.tick_params(axis='x', which='major', labelsize=6)\n",
    "\n",
    "    # Display the plot\n",
    "    plt.show()"
   ]
  },
  {
   "cell_type": "code",
   "execution_count": 29,
   "id": "049d26e0",
   "metadata": {},
   "outputs": [
    {
     "data": {
      "image/png": "[encoded data removed]",
      "text/plain": [
       "<Figure size 640x480 with 1 Axes>"
      ]
     },
     "metadata": {},
     "output_type": "display_data"
    }
   ],
   "source": [
    "# How many properties in each county\n",
    "\n",
    "graph_function('county')"
   ]
  },
  {
   "cell_type": "code",
   "execution_count": 30,
   "id": "2f53f5b0",
   "metadata": {},
   "outputs": [
    {
     "data": {
      "image/png": "[encoded data removed]",
      "text/plain": [
       "<Figure size 640x480 with 1 Axes>"
      ]
     },
     "metadata": {},
     "output_type": "display_data"
    }
   ],
   "source": [
    "graph_function('propertyType')"
   ]
  },
  {
   "cell_type": "code",
   "execution_count": 31,
   "id": "a2539bc7",
   "metadata": {},
   "outputs": [
    {
     "data": {
      "image/png": "[encoded data removed]",
      "text/plain": [
       "<Figure size 640x480 with 1 Axes>"
      ]
     },
     "metadata": {},
     "output_type": "display_data"
    }
   ],
   "source": [
    "graph_function('numBedrooms')"
   ]
  },
  {
   "cell_type": "code",
   "execution_count": 32,
   "id": "86f0c48e",
   "metadata": {},
   "outputs": [
    {
     "data": {
      "image/png": "[encoded data removed]",
      "text/plain": [
       "<Figure size 640x480 with 1 Axes>"
      ]
     },
     "metadata": {},
     "output_type": "display_data"
    }
   ],
   "source": [
    "graph_function('numBathrooms')"
   ]
  },
  {
   "cell_type": "code",
   "execution_count": 33,
   "id": "cece9f2d",
   "metadata": {},
   "outputs": [
    {
     "data": {
      "image/png": "[encoded data removed]",
      "text/plain": [
       "<Figure size 640x480 with 1 Axes>"
      ]
     },
     "metadata": {},
     "output_type": "display_data"
    }
   ],
   "source": [
    "graph_function('ber_rating')"
   ]
  },
  {
   "cell_type": "code",
   "execution_count": 35,
   "id": "88330778",
   "metadata": {},
   "outputs": [
    {
     "name": "stdout",
     "output_type": "stream",
     "text": [
      "id                  0\n",
      "longitude           0\n",
      "ber_rating          0\n",
      "m_hasBrochure       0\n",
      "m_hasVirtualTour    0\n",
      "m_hasVideo          0\n",
      "m_totalImages       0\n",
      "sellerType          0\n",
      "seller_branch       0\n",
      "seller_name         0\n",
      "latitude            0\n",
      "sellerId            0\n",
      "category            0\n",
      "propertySize        0\n",
      "propertyType        0\n",
      "numBathrooms        0\n",
      "numBedrooms         0\n",
      "price               0\n",
      "publishDate         0\n",
      "featuredLevel       0\n",
      "title               0\n",
      "AMV_price           0\n",
      "county              0\n",
      "dtype: int64\n"
     ]
    }
   ],
   "source": [
    "# check for missing values\n",
    "print(df_daft_data.isna().sum().sort_values())"
   ]
  },
  {
   "cell_type": "code",
   "execution_count": 34,
   "id": "f703351f",
   "metadata": {},
   "outputs": [
    {
     "name": "stdout",
     "output_type": "stream",
     "text": [
      "           id                                              title  \\\n",
      "0     3626025  11 Chestnut Crescent, Bridgemount, Carrigaline...   \n",
      "1     3675175  58 The Glen, Kilnacourt Woods, Portarlington, ...   \n",
      "2     3673450        16 Dodderbrook Park, Ballycullen, Dublin 24   \n",
      "3     3649708      31 Lissanalta Drive, Dooradoyle, Co. Limerick   \n",
      "4     3643947                5 Columba Terrace, Kells, Co. Meath   \n",
      "...       ...                                                ...   \n",
      "3962  3644416              13 Cherry Close, Bellfield, Waterford   \n",
      "3963  3644275               8 Thomas Street, Castlebar, Co. Mayo   \n",
      "3964  3644111         69 McAuley Drive, Artane, Artane, Dublin 5   \n",
      "3965  3644099              School Land, Ballinalee, Co. Longford   \n",
      "3966  3603137  14 Coolmagort Ave, Beaufort, Killarney, Co. Kerry   \n",
      "\n",
      "     featuredLevel publishDate   price  numBedrooms  numBathrooms  \\\n",
      "0         featured  2022-01-28  290000            3             3   \n",
      "1         featured  2022-01-28  225000            3             2   \n",
      "2         featured  2022-01-27  575000            4             3   \n",
      "3         featured  2022-01-28  299000            3             3   \n",
      "4         featured  2022-01-28  120000            3             1   \n",
      "...            ...         ...     ...          ...           ...   \n",
      "3962      standard  2022-01-24  235000            3             3   \n",
      "3963      standard  2022-01-30  149500            3             1   \n",
      "3964      standard  2022-01-28  375000            3             1   \n",
      "3965      standard  2021-12-04  170000            4             2   \n",
      "3966      standard  2022-01-30  250000            3             2   \n",
      "\n",
      "        propertyType  propertySize category  ...  \\\n",
      "0     End of Terrace          96.0      Buy  ...   \n",
      "1             Semi-D          93.0      Buy  ...   \n",
      "2             Semi-D         162.0      Buy  ...   \n",
      "3             Semi-D         103.0      Buy  ...   \n",
      "4            Terrace          68.0      Buy  ...   \n",
      "...              ...           ...      ...  ...   \n",
      "3962          Semi-D         103.0      Buy  ...   \n",
      "3963        Bungalow          82.0      Buy  ...   \n",
      "3964         Terrace         103.0      Buy  ...   \n",
      "3965        Detached         128.0      Buy  ...   \n",
      "3966        Bungalow         116.0      Buy  ...   \n",
      "\n",
      "                           seller_branch       sellerType m_totalImages  \\\n",
      "0                    Dennehy Auctioneers    BRANDED_AGENT          16.0   \n",
      "1              Tom McDonald & Associates    BRANDED_AGENT          33.0   \n",
      "2                               Moovingo    BRANDED_AGENT          38.0   \n",
      "3                       DNG Cusack Dunne    BRANDED_AGENT          22.0   \n",
      "4                      REA T & J Gavigan    BRANDED_AGENT           5.0   \n",
      "...                                  ...              ...           ...   \n",
      "3962                     Forbes Property    BRANDED_AGENT          24.0   \n",
      "3963                    DNG John O’Brien  UNBRANDED_AGENT          14.0   \n",
      "3964         Sherry FitzGerald New Homes    BRANDED_AGENT          25.0   \n",
      "3965  Hickey O'Donoghue Auctioneers Ltd.    BRANDED_AGENT          38.0   \n",
      "3966            Coonan Estate Agents Ltd  UNBRANDED_AGENT          69.0   \n",
      "\n",
      "     m_hasVideo m_hasVirtualTour  m_hasBrochure  ber_rating  longitude  \\\n",
      "0         False            False          False          C2  -8.382500   \n",
      "1         False            False          False          C1  -7.177098   \n",
      "2         False             True          False          A3  -6.342763   \n",
      "3         False            False          False          C2  -8.640716   \n",
      "4         False            False          False           G  -6.879797   \n",
      "...         ...              ...            ...         ...        ...   \n",
      "3962      False             True          False          A1  -7.212145   \n",
      "3963       True            False          False          A3  -6.753848   \n",
      "3964      False            False          False          A2  -6.086274   \n",
      "3965      False             True          False          A2  -8.652927   \n",
      "3966      False             True          False          A3  -6.792938   \n",
      "\n",
      "       latitude         county  \n",
      "0     51.822940       Co. Cork  \n",
      "1     53.157465      Co. Laois  \n",
      "2     53.269493      Dublin 24  \n",
      "3     52.629588   Co. Limerick  \n",
      "4     53.728601      Co. Meath  \n",
      "...         ...            ...  \n",
      "3962  53.647194  Co. Waterford  \n",
      "3963  54.115088       Co. Mayo  \n",
      "3964  53.146090       Dublin 5  \n",
      "3965  52.664558   Co. Longford  \n",
      "3966  53.166008      Co. Kerry  \n",
      "\n",
      "[3967 rows x 23 columns]\n"
     ]
    }
   ],
   "source": [
    "# propertySize has 355 missing values - this is over 10% of the total rows. Therefore better to replace these values\n",
    "# rather than just delete these rows\n",
    "\n",
    "# I will replace with the median value of the column\n",
    "\n",
    "median_property_size = df_daft_data['propertySize'].median()\n",
    "\n",
    "df_daft_data['propertySize'].fillna(median_property_size, inplace=True)"
   ]
  },
  {
   "cell_type": "code",
   "execution_count": 97,
   "id": "33dde57e",
   "metadata": {},
   "outputs": [],
   "source": [
    "from sklearn.model_selection import train_test_split\n",
    "from sklearn.preprocessing import LabelEncoder\n",
    "from sklearn.ensemble import RandomForestRegressor\n",
    "from sklearn.metrics import mean_squared_error"
   ]
  },
  {
   "cell_type": "code",
   "execution_count": 104,
   "id": "fdaacaa5",
   "metadata": {},
   "outputs": [
    {
     "name": "stdout",
     "output_type": "stream",
     "text": [
      "Mean Squared Error: 29513210902.369682\n"
     ]
    }
   ],
   "source": [
    "# Define the input features (X) and the target variable (y)\n",
    "features = ['numBedrooms', 'numBathrooms', 'propertyType', 'propertySize',  'county']\n",
    "target = 'price'\n",
    "\n",
    "# Encode categorical features\n",
    "label_encoder = LabelEncoder()\n",
    "for feature in ['county', 'propertyType', 'ber_rating']:\n",
    "    df_daft_data[feature] = label_encoder.fit_transform(df_daft_data[feature])\n",
    "\n",
    "# Split the data into training and testing sets\n",
    "X = df_daft_data[features]\n",
    "y = df_daft_data[target]\n",
    "X_train, X_test, y_train, y_test = train_test_split(X, y, test_size=0.2, random_state=5)\n",
    "\n",
    "\n",
    "# Create a random forest regressor model and fit it to the training data\n",
    "model = RandomForestRegressor()\n",
    "model.fit(X_train, y_train)\n",
    "\n",
    "# Make predictions on the test data\n",
    "y_pred = model.predict(X_test)\n",
    "\n",
    "# Calculate the mean squared error of the predictions\n",
    "mse = mean_squared_error(y_test, y_pred)\n",
    "print('Mean Squared Error:', mse)"
   ]
  },
  {
   "cell_type": "code",
   "execution_count": 108,
   "id": "5329123e",
   "metadata": {},
   "outputs": [],
   "source": [
    "from sklearn.model_selection import train_test_split\n",
    "from sklearn.metrics import mean_squared_error\n",
    "import xgboost as xgb"
   ]
  },
  {
   "cell_type": "code",
   "execution_count": 110,
   "id": "9f62f9a8",
   "metadata": {},
   "outputs": [
    {
     "name": "stdout",
     "output_type": "stream",
     "text": [
      "Mean Squared Error: 29630891961.449074\n"
     ]
    }
   ],
   "source": [
    "# Select features and target variable\n",
    "features = ['numBedrooms', 'numBathrooms', 'propertyType', 'propertySize',  'county', 'ber_rating']\n",
    "target = 'price'\n",
    "\n",
    "# Split the data into training and testing sets\n",
    "X = df_daft_data[features]\n",
    "y = df_daft_data[target]\n",
    "X_train, X_test, y_train, y_test = train_test_split(X, y, test_size=0.2, random_state=42)\n",
    "\n",
    "# Create the XGBoost model\n",
    "model = xgb.XGBRegressor()\n",
    "\n",
    "# Fit the model to the training data\n",
    "model.fit(X_train, y_train)\n",
    "\n",
    "# Make predictions on the test data\n",
    "y_pred = model.predict(X_test)\n",
    "\n",
    "# Calculate the mean squared error of the predictions\n",
    "mse = mean_squared_error(y_test, y_pred)\n",
    "print('Mean Squared Error:', mse)"
   ]
  },
  {
   "cell_type": "code",
   "execution_count": null,
   "id": "b3899e96",
   "metadata": {},
   "outputs": [],
   "source": []
  }
 ],
 "metadata": {
  "kernelspec": {
   "display_name": "Python 3 (ipykernel)",
   "language": "python",
   "name": "python3"
  },
  "language_info": {
   "codemirror_mode": {
    "name": "ipython",
    "version": 3
   },
   "file_extension": ".py",
   "mimetype": "text/x-python",
   "name": "python",
   "nbconvert_exporter": "python",
   "pygments_lexer": "ipython3",
   "version": "3.9.13"
  }
 },
 "nbformat": 4,
 "nbformat_minor": 5
}
